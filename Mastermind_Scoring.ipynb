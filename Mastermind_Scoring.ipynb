{
 "cells": [
  {
   "cell_type": "markdown",
   "id": "92f3a716",
   "metadata": {},
   "source": [
    "# Mastermind Scoring Function\n",
    "\n",
    "This Jupyter Notebook contains a Python function that scores a guess in the Mastermind game. The function takes a code and a guess as input and outputs the score. The output can be either a string of four characters using 'b' for black pegs, 'w' for white pegs, and 'e' for empty slots, or a tuple with the number of black pegs and white pegs.\n",
    "\n",
    "## Description\n",
    "\n",
    "- **Code:** A string of four characters, each representing one of six possible colors: `r` (red), `b` (blue), `g` (green), `y` (yellow), `w` (white), `p` (purple).\n",
    "- **Guess:** A string of four characters, each representing one of the same six possible colors.\n",
    "- **Output (Option 1):** A string of four characters:\n",
    "  - 'b' for black pegs (correct color in the correct position).\n",
    "  - 'w' for white pegs (correct color in the wrong position).\n",
    "  - 'e' for empty slots (incorrect color).\n",
    "\n",
    "- **Output (Option 2):** A tuple containing two integers:\n",
    "  - Number of black pegs (correct color in the correct position).\n",
    "  - Number of white pegs (correct color in the wrong position).\n",
    "  "
   ]
  },
  {
   "cell_type": "code",
   "execution_count": 32,
   "id": "f2d97c94",
   "metadata": {},
   "outputs": [],
   "source": [
    "import numpy as np"
   ]
  },
  {
   "cell_type": "code",
   "execution_count": 33,
   "id": "41624562",
   "metadata": {},
   "outputs": [],
   "source": [
    "def mastermind_score_string(code, guess):\n",
    "    # Initialize counts and results\n",
    "    black_pegs = 0\n",
    "    white_pegs = 0\n",
    "    result = []\n",
    "    \n",
    "    # Convert strings to lists for easier manipulation\n",
    "    code_list = list(code)\n",
    "    guess_list = list(guess)\n",
    "    \n",
    "    # First pass: check for black pegs\n",
    "    for i in range(4):\n",
    "        if guess_list[i] == code_list[i]:\n",
    "            black_pegs += 1\n",
    "            code_list[i] = guess_list[i] = None  # Mark these as used\n",
    "    \n",
    "    # Second pass: check for white pegs\n",
    "    for i in range(4):\n",
    "        if guess_list[i] is not None and guess_list[i] in code_list:\n",
    "            white_pegs += 1\n",
    "            code_list[code_list.index(guess_list[i])] = None  # Mark these as used\n",
    "    \n",
    "    # Build the result string\n",
    "    result.extend(['b'] * black_pegs)\n",
    "    result.extend(['w'] * white_pegs)\n",
    "    result.extend(['e'] * (4 - black_pegs - white_pegs))\n",
    "    \n",
    "    return ''.join(result)"
   ]
  },
  {
   "cell_type": "code",
   "execution_count": 34,
   "id": "f219ad6c",
   "metadata": {},
   "outputs": [],
   "source": [
    "def mastermind_score_tuple(code, guess):\n",
    "    # Initialize counts\n",
    "    black_pegs = 0\n",
    "    white_pegs = 0\n",
    "    \n",
    "    # Convert strings to lists for easier manipulation\n",
    "    code_list = list(code)\n",
    "    guess_list = list(guess)\n",
    "    \n",
    "    # First pass: check for black pegs\n",
    "    for i in range(4):\n",
    "        if guess_list[i] == code_list[i]:\n",
    "            black_pegs += 1\n",
    "            code_list[i] = guess_list[i] = None  # Mark these as used\n",
    "    \n",
    "    # Second pass: check for white pegs\n",
    "    for i in range(4):\n",
    "        if guess_list[i] is not None and guess_list[i] in code_list:\n",
    "            white_pegs += 1\n",
    "            code_list[code_list.index(guess_list[i])] = None  # Mark these as used\n",
    "    \n",
    "    return (black_pegs, white_pegs)"
   ]
  },
  {
   "cell_type": "code",
   "execution_count": 39,
   "id": "1f95b11a",
   "metadata": {},
   "outputs": [
    {
     "name": "stdout",
     "output_type": "stream",
     "text": [
      "Enter the code (4 characters using 'r', 'b', 'g', 'y', 'w', 'p'): rbgw\n",
      "Enter your guess (4 characters using 'r', 'b', 'g', 'y', 'w', 'p'): rrbg\n"
     ]
    }
   ],
   "source": [
    "# Prompt the user for code and guess\n",
    "code = input(\"Enter the code (4 characters using 'r', 'b', 'g', 'y', 'w', 'p'): \")\n",
    "guess = input(\"Enter your guess (4 characters using 'r', 'b', 'g', 'y', 'w', 'p'): \")"
   ]
  },
  {
   "cell_type": "code",
   "execution_count": 40,
   "id": "7f3a1726",
   "metadata": {},
   "outputs": [
    {
     "name": "stdout",
     "output_type": "stream",
     "text": [
      "Score as string: bwwe\n"
     ]
    }
   ],
   "source": [
    "# Testing the function for string output\n",
    "score_string = mastermind_score_string(code, guess)\n",
    "print(f\"Score as string: {score_string}\")  "
   ]
  },
  {
   "cell_type": "code",
   "execution_count": 41,
   "id": "6265b893",
   "metadata": {
    "scrolled": true
   },
   "outputs": [
    {
     "name": "stdout",
     "output_type": "stream",
     "text": [
      "Score as tuple: (1, 2)\n"
     ]
    }
   ],
   "source": [
    "# Testing the function for tuple output\n",
    "score_tuple = mastermind_score_tuple(code, guess)\n",
    "print(f\"Score as tuple: {score_tuple}\") "
   ]
  }
 ],
 "metadata": {
  "kernelspec": {
   "display_name": "Python 3 (ipykernel)",
   "language": "python",
   "name": "python3"
  },
  "language_info": {
   "codemirror_mode": {
    "name": "ipython",
    "version": 3
   },
   "file_extension": ".py",
   "mimetype": "text/x-python",
   "name": "python",
   "nbconvert_exporter": "python",
   "pygments_lexer": "ipython3",
   "version": "3.11.7"
  }
 },
 "nbformat": 4,
 "nbformat_minor": 5
}
